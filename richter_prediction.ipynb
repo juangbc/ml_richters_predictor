{
 "cells": [
  {
   "cell_type": "code",
   "execution_count": 68,
   "id": "3b26b88c-f9ca-4911-8376-50fb3113534f",
   "metadata": {},
   "outputs": [],
   "source": [
    "import pandas as pd\n",
    "import numpy as np\n",
    "from sklearn.linear_model import LinearRegression\n",
    "from sklearn import linear_model\n",
    "import category_encoders as ce\n",
    "import statsmodels.formula.api as smf\n",
    "import statsmodels.api as sm\n",
    "import warnings\n",
    "warnings.filterwarnings('ignore')\n",
    "from sklearn import svm, datasets\n",
    "from sklearn.model_selection import GridSearchCV\n",
    "from xgboost import train_values_copyGBClassifier\n",
    "from sklearn.metrics import accuracy_score\n",
    "from sklearn.metrics import precision_score\n",
    "from sklearn.metrics import recall_score\n",
    "from sklearn.metrics import make_scorer\n",
    "\n",
    "\n",
    "train_values = pd.read_csv('train_values.csv', sep=',')\n",
    "train_labels = pd.read_csv('train_labels.csv', sep=',')\n",
    "x_test = pd.read_csv('test_values.csv', sep=',')\n",
    "\n",
    "train_values_copy = train_values.copy()\n",
    "train_values_copy.drop('building_id', inplace=True, axis=1)\n",
    "y = train_labels.copy()\n",
    "y.drop('building_id', inplace=True, axis=1)\n",
    "x_test_dropped = x_test.copy()\n",
    "x_test_dropped.drop('building_id', inplace=True, axis=1)\n"
   ]
  },
  {
   "cell_type": "code",
   "execution_count": 2,
   "id": "f30e713d",
   "metadata": {},
   "outputs": [
    {
     "name": "stdout",
     "output_type": "stream",
     "text": [
      "Collecting xgboost\n",
      "  Downloading xgboost-1.6.1-py3-none-macosx_10_15_x86_64.macosx_11_0_x86_64.macosx_12_0_x86_64.whl (1.7 MB)\n",
      "\u001b[K     |████████████████████████████████| 1.7 MB 2.3 MB/s eta 0:00:01\n",
      "\u001b[?25hRequirement already satisfied: scipy in /Users/yaryna.vyshenska/miniconda3/lib/python3.9/site-packages (from xgboost) (1.8.1)\n",
      "Requirement already satisfied: numpy in /Users/yaryna.vyshenska/miniconda3/lib/python3.9/site-packages (from xgboost) (1.22.3)\n",
      "Installing collected packages: xgboost\n",
      "Successfully installed xgboost-1.6.1\n"
     ]
    }
   ],
   "source": []
  },
  {
   "cell_type": "code",
   "execution_count": 69,
   "id": "d0664906",
   "metadata": {},
   "outputs": [],
   "source": [
    "train_values_copy[[\"geo_level_1_id\",\"geo_level_2_id\",\"geo_level_3_id\"]] = train_values_copy[[\"geo_level_1_id\",\"geo_level_2_id\",\"geo_level_3_id\"]].astype(str)\n",
    "x_test_dropped[[\"geo_level_1_id\",\"geo_level_2_id\",\"geo_level_3_id\"]] = x_test_dropped[[\"geo_level_1_id\",\"geo_level_2_id\",\"geo_level_3_id\"]].astype(str)\n"
   ]
  },
  {
   "cell_type": "code",
   "execution_count": 70,
   "id": "7d23dbe8",
   "metadata": {},
   "outputs": [],
   "source": [
    "#generate the encoded columns\n",
    "first_ce = ce.OneHotEncoder(cols=[\"land_surface_condition\",\"foundation_type\",\"roof_type\",\"ground_floor_type\",\"other_floor_type\",\"position\",\"legal_ownership_status\"]) \n",
    "ce_te = ce.TargetEncoder(cols=[\"geo_level_1_id\",\"geo_level_2_id\",\"geo_level_3_id\",\"plan_configuration\"])\n",
    "xx = train_values_copy[[\"geo_level_1_id\",\"geo_level_2_id\",\"geo_level_3_id\",\"plan_configuration\"]]\n",
    "x_test_target_encoded = x_test_dropped[[\"geo_level_1_id\",\"geo_level_2_id\",\"geo_level_3_id\",\"plan_configuration\"]]\n",
    "yy = y['damage_grade']\n",
    "\n",
    "#fit and transform the target encoded values\n",
    "ce_te.fit(xx,yy)\n",
    "train_values_copy[[\"geo_level_1_id\",\"geo_level_2_id\",\"geo_level_3_id\",\"plan_configuration\"]] = ce_te.transform(xx)\n",
    "x_test_dropped[[\"geo_level_1_id\",\"geo_level_2_id\",\"geo_level_3_id\",\"plan_configuration\"]] = ce_te.transform(x_test_target_encoded)\n",
    "\n",
    "#fit and transform the one hot encoded values\n",
    "train_values_copy = first_ce.fit_transform(train_values_copy)\n",
    "x_test_dropped = first_ce.fit_transform(x_test_dropped)"
   ]
  },
  {
   "cell_type": "code",
   "execution_count": null,
   "id": "d808cd2d",
   "metadata": {},
   "outputs": [],
   "source": []
  },
  {
   "cell_type": "code",
   "execution_count": null,
   "id": "5d4b8de4",
   "metadata": {},
   "outputs": [],
   "source": [
    "reg = LinearRegression().fit(train_values_copy, y)\n",
    "    \n",
    "est = sm.OLS(y, train_values_copy)\n",
    "est2 = est.fit()\n",
    "est2.summary()"
   ]
  },
  {
   "cell_type": "code",
   "execution_count": null,
   "id": "9955dfe6",
   "metadata": {},
   "outputs": [],
   "source": []
  },
  {
   "cell_type": "code",
   "execution_count": 63,
   "id": "95ff743a",
   "metadata": {},
   "outputs": [],
   "source": [
    "dropped_columns_encoded_x_train = train_values_copy.drop(columns=[\"count_floors_pre_eq\",\"has_secondary_use_health_post\",\"has_secondary_use_gov_office\",\"has_secondary_use_use_police\",\"has_secondary_use_other\"])\n",
    "dropped_columns_encoded_x_test = x_test_dropped.drop(columns=[\"count_floors_pre_eq\",\"has_secondary_use_health_post\",\"has_secondary_use_gov_office\",\"has_secondary_use_use_police\",\"has_secondary_use_other\"])"
   ]
  },
  {
   "cell_type": "code",
   "execution_count": 67,
   "id": "8dce1470",
   "metadata": {},
   "outputs": [
    {
     "data": {
      "text/html": [
       "<table class=\"simpletable\">\n",
       "<caption>OLS Regression Results</caption>\n",
       "<tr>\n",
       "  <th>Dep. Variable:</th>      <td>damage_grade</td>   <th>  R-squared:         </th>  <td>   0.468</td>  \n",
       "</tr>\n",
       "<tr>\n",
       "  <th>Model:</th>                   <td>OLS</td>       <th>  Adj. R-squared:    </th>  <td>   0.468</td>  \n",
       "</tr>\n",
       "<tr>\n",
       "  <th>Method:</th>             <td>Least Squares</td>  <th>  F-statistic:       </th>  <td>   6193.</td>  \n",
       "</tr>\n",
       "<tr>\n",
       "  <th>Date:</th>             <td>Fri, 29 Jul 2022</td> <th>  Prob (F-statistic):</th>   <td>  0.00</td>   \n",
       "</tr>\n",
       "<tr>\n",
       "  <th>Time:</th>                 <td>14:04:12</td>     <th>  Log-Likelihood:    </th> <td>-1.5953e+05</td>\n",
       "</tr>\n",
       "<tr>\n",
       "  <th>No. Observations:</th>      <td>260601</td>      <th>  AIC:               </th>  <td>3.191e+05</td> \n",
       "</tr>\n",
       "<tr>\n",
       "  <th>Df Residuals:</th>          <td>260563</td>      <th>  BIC:               </th>  <td>3.195e+05</td> \n",
       "</tr>\n",
       "<tr>\n",
       "  <th>Df Model:</th>              <td>    37</td>      <th>                     </th>      <td> </td>     \n",
       "</tr>\n",
       "<tr>\n",
       "  <th>Covariance Type:</th>      <td>nonrobust</td>    <th>                     </th>      <td> </td>     \n",
       "</tr>\n",
       "</table>\n",
       "<table class=\"simpletable\">\n",
       "<tr>\n",
       "                     <td></td>                       <th>coef</th>     <th>std err</th>      <th>t</th>      <th>P>|t|</th>  <th>[0.025</th>    <th>0.975]</th>  \n",
       "</tr>\n",
       "<tr>\n",
       "  <th>geo_level_1_id</th>                         <td>    0.0406</td> <td>    0.005</td> <td>    7.684</td> <td> 0.000</td> <td>    0.030</td> <td>    0.051</td>\n",
       "</tr>\n",
       "<tr>\n",
       "  <th>geo_level_2_id</th>                         <td>   -0.0379</td> <td>    0.007</td> <td>   -5.819</td> <td> 0.000</td> <td>   -0.051</td> <td>   -0.025</td>\n",
       "</tr>\n",
       "<tr>\n",
       "  <th>geo_level_3_id</th>                         <td>    0.9133</td> <td>    0.005</td> <td>  179.908</td> <td> 0.000</td> <td>    0.903</td> <td>    0.923</td>\n",
       "</tr>\n",
       "<tr>\n",
       "  <th>age</th>                                    <td>    0.0001</td> <td>  1.2e-05</td> <td>    9.960</td> <td> 0.000</td> <td> 9.62e-05</td> <td>    0.000</td>\n",
       "</tr>\n",
       "<tr>\n",
       "  <th>area_percentage</th>                        <td>   -0.0004</td> <td>    0.000</td> <td>   -1.783</td> <td> 0.075</td> <td>   -0.001</td> <td> 3.93e-05</td>\n",
       "</tr>\n",
       "<tr>\n",
       "  <th>height_percentage</th>                      <td>    0.0026</td> <td>    0.001</td> <td>    4.274</td> <td> 0.000</td> <td>    0.001</td> <td>    0.004</td>\n",
       "</tr>\n",
       "<tr>\n",
       "  <th>land_surface_condition_1</th>               <td>   -0.1032</td> <td>    0.010</td> <td>  -10.411</td> <td> 0.000</td> <td>   -0.123</td> <td>   -0.084</td>\n",
       "</tr>\n",
       "<tr>\n",
       "  <th>land_surface_condition_2</th>               <td>   -0.0927</td> <td>    0.010</td> <td>   -8.855</td> <td> 0.000</td> <td>   -0.113</td> <td>   -0.072</td>\n",
       "</tr>\n",
       "<tr>\n",
       "  <th>land_surface_condition_3</th>               <td>   -0.1113</td> <td>    0.010</td> <td>  -11.104</td> <td> 0.000</td> <td>   -0.131</td> <td>   -0.092</td>\n",
       "</tr>\n",
       "<tr>\n",
       "  <th>foundation_type_1</th>                      <td>    0.0255</td> <td>    0.007</td> <td>    3.720</td> <td> 0.000</td> <td>    0.012</td> <td>    0.039</td>\n",
       "</tr>\n",
       "<tr>\n",
       "  <th>foundation_type_2</th>                      <td>   -0.0316</td> <td>    0.007</td> <td>   -4.397</td> <td> 0.000</td> <td>   -0.046</td> <td>   -0.018</td>\n",
       "</tr>\n",
       "<tr>\n",
       "  <th>foundation_type_3</th>                      <td>   -0.2297</td> <td>    0.009</td> <td>  -25.311</td> <td> 0.000</td> <td>   -0.248</td> <td>   -0.212</td>\n",
       "</tr>\n",
       "<tr>\n",
       "  <th>foundation_type_4</th>                      <td>   -0.0355</td> <td>    0.007</td> <td>   -4.872</td> <td> 0.000</td> <td>   -0.050</td> <td>   -0.021</td>\n",
       "</tr>\n",
       "<tr>\n",
       "  <th>foundation_type_5</th>                      <td>   -0.0358</td> <td>    0.012</td> <td>   -3.089</td> <td> 0.002</td> <td>   -0.059</td> <td>   -0.013</td>\n",
       "</tr>\n",
       "<tr>\n",
       "  <th>roof_type_1</th>                            <td>   -0.0624</td> <td>    0.010</td> <td>   -6.251</td> <td> 0.000</td> <td>   -0.082</td> <td>   -0.043</td>\n",
       "</tr>\n",
       "<tr>\n",
       "  <th>roof_type_2</th>                            <td>   -0.0472</td> <td>    0.010</td> <td>   -4.700</td> <td> 0.000</td> <td>   -0.067</td> <td>   -0.028</td>\n",
       "</tr>\n",
       "<tr>\n",
       "  <th>roof_type_3</th>                            <td>   -0.1975</td> <td>    0.011</td> <td>  -18.103</td> <td> 0.000</td> <td>   -0.219</td> <td>   -0.176</td>\n",
       "</tr>\n",
       "<tr>\n",
       "  <th>ground_floor_type_1</th>                    <td>    0.0056</td> <td>    0.008</td> <td>    0.750</td> <td> 0.453</td> <td>   -0.009</td> <td>    0.020</td>\n",
       "</tr>\n",
       "<tr>\n",
       "  <th>ground_floor_type_2</th>                    <td>   -0.0118</td> <td>    0.008</td> <td>   -1.528</td> <td> 0.126</td> <td>   -0.027</td> <td>    0.003</td>\n",
       "</tr>\n",
       "<tr>\n",
       "  <th>ground_floor_type_3</th>                    <td>   -0.0907</td> <td>    0.008</td> <td>  -11.343</td> <td> 0.000</td> <td>   -0.106</td> <td>   -0.075</td>\n",
       "</tr>\n",
       "<tr>\n",
       "  <th>ground_floor_type_4</th>                    <td>   -0.1012</td> <td>    0.014</td> <td>   -7.411</td> <td> 0.000</td> <td>   -0.128</td> <td>   -0.074</td>\n",
       "</tr>\n",
       "<tr>\n",
       "  <th>ground_floor_type_5</th>                    <td>   -0.1090</td> <td>    0.018</td> <td>   -6.210</td> <td> 0.000</td> <td>   -0.143</td> <td>   -0.075</td>\n",
       "</tr>\n",
       "<tr>\n",
       "  <th>other_floor_type_1</th>                     <td>   -0.0792</td> <td>    0.008</td> <td>  -10.315</td> <td> 0.000</td> <td>   -0.094</td> <td>   -0.064</td>\n",
       "</tr>\n",
       "<tr>\n",
       "  <th>other_floor_type_2</th>                     <td>   -0.0733</td> <td>    0.008</td> <td>   -9.438</td> <td> 0.000</td> <td>   -0.088</td> <td>   -0.058</td>\n",
       "</tr>\n",
       "<tr>\n",
       "  <th>other_floor_type_3</th>                     <td>   -0.0650</td> <td>    0.008</td> <td>   -8.484</td> <td> 0.000</td> <td>   -0.080</td> <td>   -0.050</td>\n",
       "</tr>\n",
       "<tr>\n",
       "  <th>other_floor_type_4</th>                     <td>   -0.0897</td> <td>    0.009</td> <td>  -10.080</td> <td> 0.000</td> <td>   -0.107</td> <td>   -0.072</td>\n",
       "</tr>\n",
       "<tr>\n",
       "  <th>position_1</th>                             <td>   -0.0717</td> <td>    0.008</td> <td>   -9.110</td> <td> 0.000</td> <td>   -0.087</td> <td>   -0.056</td>\n",
       "</tr>\n",
       "<tr>\n",
       "  <th>position_2</th>                             <td>   -0.0843</td> <td>    0.008</td> <td>  -10.933</td> <td> 0.000</td> <td>   -0.099</td> <td>   -0.069</td>\n",
       "</tr>\n",
       "<tr>\n",
       "  <th>position_3</th>                             <td>   -0.0625</td> <td>    0.008</td> <td>   -7.573</td> <td> 0.000</td> <td>   -0.079</td> <td>   -0.046</td>\n",
       "</tr>\n",
       "<tr>\n",
       "  <th>position_4</th>                             <td>   -0.0887</td> <td>    0.011</td> <td>   -8.386</td> <td> 0.000</td> <td>   -0.109</td> <td>   -0.068</td>\n",
       "</tr>\n",
       "<tr>\n",
       "  <th>plan_configuration</th>                     <td>    0.1943</td> <td>    0.020</td> <td>    9.730</td> <td> 0.000</td> <td>    0.155</td> <td>    0.233</td>\n",
       "</tr>\n",
       "<tr>\n",
       "  <th>has_superstructure_adobe_mud</th>           <td>    0.0503</td> <td>    0.004</td> <td>   14.055</td> <td> 0.000</td> <td>    0.043</td> <td>    0.057</td>\n",
       "</tr>\n",
       "<tr>\n",
       "  <th>has_superstructure_mud_mortar_stone</th>    <td>    0.0585</td> <td>    0.003</td> <td>   16.840</td> <td> 0.000</td> <td>    0.052</td> <td>    0.065</td>\n",
       "</tr>\n",
       "<tr>\n",
       "  <th>has_superstructure_stone_flag</th>          <td>    0.0360</td> <td>    0.005</td> <td>    7.158</td> <td> 0.000</td> <td>    0.026</td> <td>    0.046</td>\n",
       "</tr>\n",
       "<tr>\n",
       "  <th>has_superstructure_cement_mortar_stone</th> <td>   -0.0616</td> <td>    0.007</td> <td>   -9.157</td> <td> 0.000</td> <td>   -0.075</td> <td>   -0.048</td>\n",
       "</tr>\n",
       "<tr>\n",
       "  <th>has_superstructure_mud_mortar_brick</th>    <td>    0.0642</td> <td>    0.004</td> <td>   14.991</td> <td> 0.000</td> <td>    0.056</td> <td>    0.073</td>\n",
       "</tr>\n",
       "<tr>\n",
       "  <th>has_superstructure_cement_mortar_brick</th> <td>   -0.0358</td> <td>    0.005</td> <td>   -7.778</td> <td> 0.000</td> <td>   -0.045</td> <td>   -0.027</td>\n",
       "</tr>\n",
       "<tr>\n",
       "  <th>has_superstructure_timber</th>              <td>   -0.0146</td> <td>    0.002</td> <td>   -6.198</td> <td> 0.000</td> <td>   -0.019</td> <td>   -0.010</td>\n",
       "</tr>\n",
       "<tr>\n",
       "  <th>has_superstructure_bamboo</th>              <td>   -0.0030</td> <td>    0.004</td> <td>   -0.848</td> <td> 0.396</td> <td>   -0.010</td> <td>    0.004</td>\n",
       "</tr>\n",
       "<tr>\n",
       "  <th>has_superstructure_rc_non_engineered</th>   <td>   -0.0407</td> <td>    0.006</td> <td>   -7.208</td> <td> 0.000</td> <td>   -0.052</td> <td>   -0.030</td>\n",
       "</tr>\n",
       "<tr>\n",
       "  <th>has_superstructure_rc_engineered</th>       <td>   -0.0621</td> <td>    0.009</td> <td>   -6.617</td> <td> 0.000</td> <td>   -0.081</td> <td>   -0.044</td>\n",
       "</tr>\n",
       "<tr>\n",
       "  <th>has_superstructure_other</th>               <td>   -0.0851</td> <td>    0.007</td> <td>  -11.613</td> <td> 0.000</td> <td>   -0.100</td> <td>   -0.071</td>\n",
       "</tr>\n",
       "<tr>\n",
       "  <th>count_families</th>                         <td>    0.0225</td> <td>    0.002</td> <td>   10.637</td> <td> 0.000</td> <td>    0.018</td> <td>    0.027</td>\n",
       "</tr>\n",
       "</table>\n",
       "<table class=\"simpletable\">\n",
       "<tr>\n",
       "  <th>Omnibus:</th>       <td>1492.130</td> <th>  Durbin-Watson:     </th> <td>   2.003</td>\n",
       "</tr>\n",
       "<tr>\n",
       "  <th>Prob(Omnibus):</th>  <td> 0.000</td>  <th>  Jarque-Bera (JB):  </th> <td>1662.642</td>\n",
       "</tr>\n",
       "<tr>\n",
       "  <th>Skew:</th>           <td> 0.145</td>  <th>  Prob(JB):          </th> <td>    0.00</td>\n",
       "</tr>\n",
       "<tr>\n",
       "  <th>Kurtosis:</th>       <td> 3.263</td>  <th>  Cond. No.          </th> <td>1.15e+16</td>\n",
       "</tr>\n",
       "</table><br/><br/>Notes:<br/>[1] Standard Errors assume that the covariance matrix of the errors is correctly specified.<br/>[2] The smallest eigenvalue is 1.22e-23. This might indicate that there are<br/>strong multicollinearity problems or that the design matrix is singular."
      ],
      "text/plain": [
       "<class 'statsmodels.iolib.summary.Summary'>\n",
       "\"\"\"\n",
       "                            OLS Regression Results                            \n",
       "==============================================================================\n",
       "Dep. Variable:           damage_grade   R-squared:                       0.468\n",
       "Model:                            OLS   Adj. R-squared:                  0.468\n",
       "Method:                 Least Squares   F-statistic:                     6193.\n",
       "Date:                Fri, 29 Jul 2022   Prob (F-statistic):               0.00\n",
       "Time:                        14:04:12   Log-Likelihood:            -1.5953e+05\n",
       "No. Observations:              260601   AIC:                         3.191e+05\n",
       "Df Residuals:                  260563   BIC:                         3.195e+05\n",
       "Df Model:                          37                                         \n",
       "Covariance Type:            nonrobust                                         \n",
       "==========================================================================================================\n",
       "                                             coef    std err          t      P>|t|      [0.025      0.975]\n",
       "----------------------------------------------------------------------------------------------------------\n",
       "geo_level_1_id                             0.0406      0.005      7.684      0.000       0.030       0.051\n",
       "geo_level_2_id                            -0.0379      0.007     -5.819      0.000      -0.051      -0.025\n",
       "geo_level_3_id                             0.9133      0.005    179.908      0.000       0.903       0.923\n",
       "age                                        0.0001    1.2e-05      9.960      0.000    9.62e-05       0.000\n",
       "area_percentage                           -0.0004      0.000     -1.783      0.075      -0.001    3.93e-05\n",
       "height_percentage                          0.0026      0.001      4.274      0.000       0.001       0.004\n",
       "land_surface_condition_1                  -0.1032      0.010    -10.411      0.000      -0.123      -0.084\n",
       "land_surface_condition_2                  -0.0927      0.010     -8.855      0.000      -0.113      -0.072\n",
       "land_surface_condition_3                  -0.1113      0.010    -11.104      0.000      -0.131      -0.092\n",
       "foundation_type_1                          0.0255      0.007      3.720      0.000       0.012       0.039\n",
       "foundation_type_2                         -0.0316      0.007     -4.397      0.000      -0.046      -0.018\n",
       "foundation_type_3                         -0.2297      0.009    -25.311      0.000      -0.248      -0.212\n",
       "foundation_type_4                         -0.0355      0.007     -4.872      0.000      -0.050      -0.021\n",
       "foundation_type_5                         -0.0358      0.012     -3.089      0.002      -0.059      -0.013\n",
       "roof_type_1                               -0.0624      0.010     -6.251      0.000      -0.082      -0.043\n",
       "roof_type_2                               -0.0472      0.010     -4.700      0.000      -0.067      -0.028\n",
       "roof_type_3                               -0.1975      0.011    -18.103      0.000      -0.219      -0.176\n",
       "ground_floor_type_1                        0.0056      0.008      0.750      0.453      -0.009       0.020\n",
       "ground_floor_type_2                       -0.0118      0.008     -1.528      0.126      -0.027       0.003\n",
       "ground_floor_type_3                       -0.0907      0.008    -11.343      0.000      -0.106      -0.075\n",
       "ground_floor_type_4                       -0.1012      0.014     -7.411      0.000      -0.128      -0.074\n",
       "ground_floor_type_5                       -0.1090      0.018     -6.210      0.000      -0.143      -0.075\n",
       "other_floor_type_1                        -0.0792      0.008    -10.315      0.000      -0.094      -0.064\n",
       "other_floor_type_2                        -0.0733      0.008     -9.438      0.000      -0.088      -0.058\n",
       "other_floor_type_3                        -0.0650      0.008     -8.484      0.000      -0.080      -0.050\n",
       "other_floor_type_4                        -0.0897      0.009    -10.080      0.000      -0.107      -0.072\n",
       "position_1                                -0.0717      0.008     -9.110      0.000      -0.087      -0.056\n",
       "position_2                                -0.0843      0.008    -10.933      0.000      -0.099      -0.069\n",
       "position_3                                -0.0625      0.008     -7.573      0.000      -0.079      -0.046\n",
       "position_4                                -0.0887      0.011     -8.386      0.000      -0.109      -0.068\n",
       "plan_configuration                         0.1943      0.020      9.730      0.000       0.155       0.233\n",
       "has_superstructure_adobe_mud               0.0503      0.004     14.055      0.000       0.043       0.057\n",
       "has_superstructure_mud_mortar_stone        0.0585      0.003     16.840      0.000       0.052       0.065\n",
       "has_superstructure_stone_flag              0.0360      0.005      7.158      0.000       0.026       0.046\n",
       "has_superstructure_cement_mortar_stone    -0.0616      0.007     -9.157      0.000      -0.075      -0.048\n",
       "has_superstructure_mud_mortar_brick        0.0642      0.004     14.991      0.000       0.056       0.073\n",
       "has_superstructure_cement_mortar_brick    -0.0358      0.005     -7.778      0.000      -0.045      -0.027\n",
       "has_superstructure_timber                 -0.0146      0.002     -6.198      0.000      -0.019      -0.010\n",
       "has_superstructure_bamboo                 -0.0030      0.004     -0.848      0.396      -0.010       0.004\n",
       "has_superstructure_rc_non_engineered      -0.0407      0.006     -7.208      0.000      -0.052      -0.030\n",
       "has_superstructure_rc_engineered          -0.0621      0.009     -6.617      0.000      -0.081      -0.044\n",
       "has_superstructure_other                  -0.0851      0.007    -11.613      0.000      -0.100      -0.071\n",
       "count_families                             0.0225      0.002     10.637      0.000       0.018       0.027\n",
       "==============================================================================\n",
       "Omnibus:                     1492.130   Durbin-Watson:                   2.003\n",
       "Prob(Omnibus):                  0.000   Jarque-Bera (JB):             1662.642\n",
       "Skew:                           0.145   Prob(JB):                         0.00\n",
       "Kurtosis:                       3.263   Cond. No.                     1.15e+16\n",
       "==============================================================================\n",
       "\n",
       "Notes:\n",
       "[1] Standard Errors assume that the covariance matrix of the errors is correctly specified.\n",
       "[2] The smallest eigenvalue is 1.22e-23. This might indicate that there are\n",
       "strong multicollinearity problems or that the design matrix is singular.\n",
       "\"\"\""
      ]
     },
     "execution_count": 67,
     "metadata": {},
     "output_type": "execute_result"
    }
   ],
   "source": [
    "from sklearn.ensemble import RandomForestClassifier\n",
    "\n",
    "reg = LinearRegression().fit(dropped_columns_encoded_x_train, y)\n",
    "    \n",
    "est = sm.OLS(y, dropped_columns_encoded_x_train)\n",
    "est2 = est.fit()\n",
    "est2.summary()"
   ]
  },
  {
   "cell_type": "code",
   "execution_count": 64,
   "id": "18709660",
   "metadata": {},
   "outputs": [
    {
     "data": {
      "text/plain": [
       "array([3, 2, 3, ..., 2, 2, 2])"
      ]
     },
     "execution_count": 64,
     "metadata": {},
     "output_type": "execute_result"
    }
   ],
   "source": [
    "#Create a Gaussian Classifier\n",
    "clf=RandomForestClassifier(min_samples_split=20, n_estimators=200)\n",
    "clf = clf.fit(dropped_columns_encoded_x_train,y)\n",
    "y_pred=clf.predict(dropped_columns_encoded_x_test)\n",
    "y_pred"
   ]
  },
  {
   "cell_type": "code",
   "execution_count": 10,
   "id": "54f55b09-b214-4062-b6bd-6f3aeaed274a",
   "metadata": {},
   "outputs": [
    {
     "name": "stdout",
     "output_type": "stream",
     "text": [
      "0.7408145070896852\n"
     ]
    }
   ],
   "source": [
    "from sklearn.model_selection import cross_val_score\n",
    "y_train_vector = y.values.flatten()\n",
    "print(np.mean(cross_val_score(clf, dropped_columns_encoded_x_train, y_train_vector)))"
   ]
  },
  {
   "cell_type": "code",
   "execution_count": null,
   "id": "cfcb35cc",
   "metadata": {},
   "outputs": [],
   "source": []
  },
  {
   "cell_type": "code",
   "execution_count": 59,
   "id": "0b19d5f6",
   "metadata": {},
   "outputs": [],
   "source": [
    "from sklearn.datasets import make_hastie_10_2\n",
    "from sklearn.ensemble import GradientBoostingClassifier\n",
    "\n",
    "clf = GradientBoostingClassifier(n_estimators=100, learning_rate=0.2, random_state=0).fit(dropped_columns_encoded_x_train, y)\n",
    "ypred_gradient_boosting = clf.predict(dropped_columns_encoded_x_test)\n",
    "ypred_gradient_boosting\n"
   ]
  },
  {
   "cell_type": "code",
   "execution_count": 60,
   "id": "66d9ab42-9623-45da-8cdc-461e3e4ec878",
   "metadata": {},
   "outputs": [
    {
     "data": {
      "text/plain": [
       "array([3, 2, 3, ..., 2, 2, 2])"
      ]
     },
     "execution_count": 60,
     "metadata": {},
     "output_type": "execute_result"
    }
   ],
   "source": []
  },
  {
   "cell_type": "code",
   "execution_count": 55,
   "id": "f7e5a72b",
   "metadata": {},
   "outputs": [
    {
     "name": "stdout",
     "output_type": "stream",
     "text": [
      "Fitting 5 folds for each of 4 candidates, totalling 20 fits\n"
     ]
    },
    {
     "data": {
      "text/html": [
       "<style>#sk-container-id-2 {color: black;background-color: white;}#sk-container-id-2 pre{padding: 0;}#sk-container-id-2 div.sk-toggleable {background-color: white;}#sk-container-id-2 label.sk-toggleable__label {cursor: pointer;display: block;width: 100%;margin-bottom: 0;padding: 0.3em;box-sizing: border-box;text-align: center;}#sk-container-id-2 label.sk-toggleable__label-arrow:before {content: \"▸\";float: left;margin-right: 0.25em;color: #696969;}#sk-container-id-2 label.sk-toggleable__label-arrow:hover:before {color: black;}#sk-container-id-2 div.sk-estimator:hover label.sk-toggleable__label-arrow:before {color: black;}#sk-container-id-2 div.sk-toggleable__content {max-height: 0;max-width: 0;overflow: hidden;text-align: left;background-color: #f0f8ff;}#sk-container-id-2 div.sk-toggleable__content pre {margin: 0.2em;color: black;border-radius: 0.25em;background-color: #f0f8ff;}#sk-container-id-2 input.sk-toggleable__control:checked~div.sk-toggleable__content {max-height: 200px;max-width: 100%;overflow: auto;}#sk-container-id-2 input.sk-toggleable__control:checked~label.sk-toggleable__label-arrow:before {content: \"▾\";}#sk-container-id-2 div.sk-estimator input.sk-toggleable__control:checked~label.sk-toggleable__label {background-color: #d4ebff;}#sk-container-id-2 div.sk-label input.sk-toggleable__control:checked~label.sk-toggleable__label {background-color: #d4ebff;}#sk-container-id-2 input.sk-hidden--visually {border: 0;clip: rect(1px 1px 1px 1px);clip: rect(1px, 1px, 1px, 1px);height: 1px;margin: -1px;overflow: hidden;padding: 0;position: absolute;width: 1px;}#sk-container-id-2 div.sk-estimator {font-family: monospace;background-color: #f0f8ff;border: 1px dotted black;border-radius: 0.25em;box-sizing: border-box;margin-bottom: 0.5em;}#sk-container-id-2 div.sk-estimator:hover {background-color: #d4ebff;}#sk-container-id-2 div.sk-parallel-item::after {content: \"\";width: 100%;border-bottom: 1px solid gray;flex-grow: 1;}#sk-container-id-2 div.sk-label:hover label.sk-toggleable__label {background-color: #d4ebff;}#sk-container-id-2 div.sk-serial::before {content: \"\";position: absolute;border-left: 1px solid gray;box-sizing: border-box;top: 0;bottom: 0;left: 50%;z-index: 0;}#sk-container-id-2 div.sk-serial {display: flex;flex-direction: column;align-items: center;background-color: white;padding-right: 0.2em;padding-left: 0.2em;position: relative;}#sk-container-id-2 div.sk-item {position: relative;z-index: 1;}#sk-container-id-2 div.sk-parallel {display: flex;align-items: stretch;justify-content: center;background-color: white;position: relative;}#sk-container-id-2 div.sk-item::before, #sk-container-id-2 div.sk-parallel-item::before {content: \"\";position: absolute;border-left: 1px solid gray;box-sizing: border-box;top: 0;bottom: 0;left: 50%;z-index: -1;}#sk-container-id-2 div.sk-parallel-item {display: flex;flex-direction: column;z-index: 1;position: relative;background-color: white;}#sk-container-id-2 div.sk-parallel-item:first-child::after {align-self: flex-end;width: 50%;}#sk-container-id-2 div.sk-parallel-item:last-child::after {align-self: flex-start;width: 50%;}#sk-container-id-2 div.sk-parallel-item:only-child::after {width: 0;}#sk-container-id-2 div.sk-dashed-wrapped {border: 1px dashed gray;margin: 0 0.4em 0.5em 0.4em;box-sizing: border-box;padding-bottom: 0.4em;background-color: white;}#sk-container-id-2 div.sk-label label {font-family: monospace;font-weight: bold;display: inline-block;line-height: 1.2em;}#sk-container-id-2 div.sk-label-container {text-align: center;}#sk-container-id-2 div.sk-container {/* jupyter's `normalize.less` sets `[hidden] { display: none; }` but bootstrap.min.css set `[hidden] { display: none !important; }` so we also need the `!important` here to be able to override the default hidden behavior on the sphinx rendered scikit-learn.org. See: https://github.com/scikit-learn/scikit-learn/issues/21755 */display: inline-block !important;position: relative;}#sk-container-id-2 div.sk-text-repr-fallback {display: none;}</style><div id=\"sk-container-id-2\" class=\"sk-top-container\"><div class=\"sk-text-repr-fallback\"><pre>XGBClassifier(base_score=0.5, booster=&#x27;gbtree&#x27;, callbacks=None,\n",
       "              colsample_bylevel=1, colsample_bynode=1, colsample_bytree=1,\n",
       "              early_stopping_rounds=None, enable_categorical=False,\n",
       "              eval_metric=None, gamma=0, gpu_id=-1, grow_policy=&#x27;depthwise&#x27;,\n",
       "              importance_type=None, interaction_constraints=&#x27;&#x27;,\n",
       "              learning_rate=0.2, max_bin=256, max_cat_to_onehot=4,\n",
       "              max_delta_step=0, max_depth=6, max_leaves=0, min_child_weight=1,\n",
       "              missing=nan, monotone_constraints=&#x27;()&#x27;, n_estimators=100,\n",
       "              n_jobs=4, nthread=4, num_parallel_tree=1,\n",
       "              objective=&#x27;multi:softprob&#x27;, predictor=&#x27;auto&#x27;, random_state=42, ...)</pre><b>In a Jupyter environment, please rerun this cell to show the HTML representation or trust the notebook. <br />On GitHub, the HTML representation is unable to render, please try loading this page with nbviewer.org.</b></div><div class=\"sk-container\" hidden><div class=\"sk-item\"><div class=\"sk-estimator sk-toggleable\"><input class=\"sk-toggleable__control sk-hidden--visually\" id=\"sk-estimator-id-2\" type=\"checkbox\" checked><label for=\"sk-estimator-id-2\" class=\"sk-toggleable__label sk-toggleable__label-arrow\">XGBClassifier</label><div class=\"sk-toggleable__content\"><pre>XGBClassifier(base_score=0.5, booster=&#x27;gbtree&#x27;, callbacks=None,\n",
       "              colsample_bylevel=1, colsample_bynode=1, colsample_bytree=1,\n",
       "              early_stopping_rounds=None, enable_categorical=False,\n",
       "              eval_metric=None, gamma=0, gpu_id=-1, grow_policy=&#x27;depthwise&#x27;,\n",
       "              importance_type=None, interaction_constraints=&#x27;&#x27;,\n",
       "              learning_rate=0.2, max_bin=256, max_cat_to_onehot=4,\n",
       "              max_delta_step=0, max_depth=6, max_leaves=0, min_child_weight=1,\n",
       "              missing=nan, monotone_constraints=&#x27;()&#x27;, n_estimators=100,\n",
       "              n_jobs=4, nthread=4, num_parallel_tree=1,\n",
       "              objective=&#x27;multi:softprob&#x27;, predictor=&#x27;auto&#x27;, random_state=42, ...)</pre></div></div></div></div></div>"
      ],
      "text/plain": [
       "XGBClassifier(base_score=0.5, booster='gbtree', callbacks=None,\n",
       "              colsample_bylevel=1, colsample_bynode=1, colsample_bytree=1,\n",
       "              early_stopping_rounds=None, enable_categorical=False,\n",
       "              eval_metric=None, gamma=0, gpu_id=-1, grow_policy='depthwise',\n",
       "              importance_type=None, interaction_constraints='',\n",
       "              learning_rate=0.2, max_bin=256, max_cat_to_onehot=4,\n",
       "              max_delta_step=0, max_depth=6, max_leaves=0, min_child_weight=1,\n",
       "              missing=nan, monotone_constraints='()', n_estimators=100,\n",
       "              n_jobs=4, nthread=4, num_parallel_tree=1,\n",
       "              objective='multi:softprob', predictor='auto', random_state=42, ...)"
      ]
     },
     "execution_count": 55,
     "metadata": {},
     "output_type": "execute_result"
    }
   ],
   "source": [
    "\n",
    "#iris = datasets.load_iris()\n",
    "estimator = train_values_copyGBClassifier(\n",
    "    objective= 'binary:logistic',\n",
    "    nthread=4,\n",
    "    seed=42\n",
    ")\n",
    "parameters = {\n",
    "    'max_depth': [6, 10],\n",
    "    'learning_rate': [0.1, 0.2]\n",
    "}\n",
    "grid_search = GridSearchCV(\n",
    "    estimator=estimator,\n",
    "    param_grid=parameters,\n",
    "    verbose=True,\n",
    "    error_score='raise'\n",
    ")\n",
    "grid_search.fit(dropped_columns_encoded_x_train, y.values.flatten() - 1)\n",
    "\n",
    "sorted(grid_search.cv_results_.keys())\n",
    "grid_search.best_estimator_\n"
   ]
  },
  {
   "cell_type": "code",
   "execution_count": 73,
   "id": "7e179584",
   "metadata": {},
   "outputs": [
    {
     "name": "stdout",
     "output_type": "stream",
     "text": [
      "XGBClassifier(base_score=0.5, booster='gbtree', callbacks=None,\n",
      "              colsample_bylevel=1, colsample_bynode=1, colsample_bytree=0.8,\n",
      "              early_stopping_rounds=None, enable_categorical=False,\n",
      "              eval_metric=None, gamma=0, gpu_id=-1, grow_policy='depthwise',\n",
      "              importance_type=None, interaction_constraints='',\n",
      "              learning_rate=0.2, max_bin=256, max_cat_to_onehot=4,\n",
      "              max_delta_step=0, max_depth=10, max_leaves=0, min_child_weight=1,\n",
      "              missing=nan, monotone_constraints='()', n_estimators=100,\n",
      "              n_jobs=4, nthread=4, num_parallel_tree=1,\n",
      "              objective='multi:softprob', predictor='auto', random_state=42, ...)\n"
     ]
    }
   ],
   "source": [
    "from xgboost import XGBClassifier\n",
    "from sklearn.datasets import load_iris\n",
    "from sklearn.metrics import confusion_matrix\n",
    "from sklearn.model_selection import train_test_split\n",
    "from sklearn.model_selection import cross_val_score, KFold\n",
    "xgbc = XGBClassifier(base_score=0.5, booster='gbtree', callbacks=None,\n",
    "              colsample_bylevel=1, colsample_bynode=1, colsample_bytree=0.8,\n",
    "              early_stopping_rounds=None, enable_categorical=False,\n",
    "              eval_metric=None, gamma=0, gpu_id=-1, grow_policy='depthwise',\n",
    "              importance_type=None, interaction_constraints='',\n",
    "              learning_rate=0.2, max_bin=256, max_cat_to_onehot=4,\n",
    "              max_delta_step=0, max_depth=10, max_leaves=0, min_child_weight=1,\n",
    "              monotone_constraints='()', n_estimators=100,\n",
    "              n_jobs=4, nthread=4, num_parallel_tree=1,\n",
    "              objective='multi:softprob', predictor='auto', random_state=42,)\n",
    "print(xgbc)\n",
    "xgbc.fit(dropped_columns_encoded_x_train, y-1)\n",
    "ypred_xgboost = xgbc.predict(dropped_columns_encoded_x_test) + 1"
   ]
  },
  {
   "cell_type": "code",
   "execution_count": 31,
   "id": "f45591eb-b284-4c83-86cb-42cf86944c84",
   "metadata": {},
   "outputs": [
    {
     "data": {
      "text/plain": [
       "array([3, 2, 3, ..., 2, 2, 2])"
      ]
     },
     "execution_count": 31,
     "metadata": {},
     "output_type": "execute_result"
    }
   ],
   "source": [
    "ypred_xgboost"
   ]
  },
  {
   "cell_type": "markdown",
   "id": "6418455b",
   "metadata": {},
   "source": []
  },
  {
   "cell_type": "code",
   "execution_count": 65,
   "id": "610a322e",
   "metadata": {},
   "outputs": [],
   "source": [
    "from pathlib import Path  \n",
    "submission_random_forest = x_test[\"building_id\"]\n",
    "i = pd.DataFrame(np.array(y_pred))\n",
    "\n",
    "submission_concatenated = pd.concat([submission_random_forest, i], ignore_index=\"true\", axis=1)\n",
    "submission_renamed_columns = submission_concatenated.rename(columns={0: \"building_id\", 1: \"damage_grade\"})\n",
    "filepath = Path('./submission_richter_prediction.csv')  \n",
    "filepath.parent.mkdir(parents=True, exist_ok=True)  \n",
    "submission_renamed_columns.to_csv(filepath, index=False)"
   ]
  },
  {
   "cell_type": "code",
   "execution_count": null,
   "id": "7178a10d",
   "metadata": {},
   "outputs": [],
   "source": []
  }
 ],
 "metadata": {
  "kernelspec": {
   "display_name": "Python 3 (ipykernel)",
   "language": "python",
   "name": "python3"
  },
  "language_info": {
   "codemirror_mode": {
    "name": "ipython",
    "version": 3
   },
   "file_extension": ".py",
   "mimetype": "text/x-python",
   "name": "python",
   "nbconvert_exporter": "python",
   "pygments_lexer": "ipython3",
   "version": "3.7.13"
  }
 },
 "nbformat": 4,
 "nbformat_minor": 5
}
